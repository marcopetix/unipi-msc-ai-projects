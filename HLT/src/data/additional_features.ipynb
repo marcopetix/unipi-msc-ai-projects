{
 "cells": [
  {
   "cell_type": "markdown",
   "metadata": {},
   "source": [
    "# Feature extraction"
   ]
  },
  {
   "cell_type": "markdown",
   "metadata": {},
   "source": [
    "### Directories"
   ]
  },
  {
   "cell_type": "code",
   "execution_count": 1,
   "metadata": {},
   "outputs": [],
   "source": [
    "INPUT_DIR = \"../../dataset/us-patent-phrase-to-phrase-matching/\"\n",
    "CPC_DIR = \"../../dataset/cpc-data/\"\n",
    "OUTPUT_DIR = './'"
   ]
  },
  {
   "cell_type": "markdown",
   "metadata": {},
   "source": [
    "## Libraries"
   ]
  },
  {
   "cell_type": "markdown",
   "metadata": {},
   "source": [
    "General Libraries"
   ]
  },
  {
   "cell_type": "code",
   "execution_count": 2,
   "metadata": {},
   "outputs": [],
   "source": [
    "import os\n",
    "import re\n",
    "import time\n",
    "import math\n",
    "import pickle\n",
    "import random\n",
    "import warnings\n",
    "warnings.filterwarnings(\"ignore\")"
   ]
  },
  {
   "cell_type": "markdown",
   "metadata": {},
   "source": [
    "Scientific Libraries"
   ]
  },
  {
   "cell_type": "code",
   "execution_count": 3,
   "metadata": {},
   "outputs": [],
   "source": [
    "import scipy as sp\n",
    "import numpy as np\n",
    "import pandas as pd\n",
    "pd.set_option('display.max_rows', 500)\n",
    "pd.set_option('display.max_columns', 500)\n",
    "pd.set_option('display.width', 1000)\n",
    "#import torch"
   ]
  },
  {
   "cell_type": "markdown",
   "metadata": {},
   "source": [
    "## Data Loading"
   ]
  },
  {
   "cell_type": "markdown",
   "metadata": {},
   "source": [
    "### Input Dataset"
   ]
  },
  {
   "cell_type": "code",
   "execution_count": 4,
   "metadata": {},
   "outputs": [
    {
     "name": "stdout",
     "output_type": "stream",
     "text": [
      "train.shape: (36473, 5)\n"
     ]
    },
    {
     "data": {
      "text/html": [
       "<div>\n",
       "<style scoped>\n",
       "    .dataframe tbody tr th:only-of-type {\n",
       "        vertical-align: middle;\n",
       "    }\n",
       "\n",
       "    .dataframe tbody tr th {\n",
       "        vertical-align: top;\n",
       "    }\n",
       "\n",
       "    .dataframe thead th {\n",
       "        text-align: right;\n",
       "    }\n",
       "</style>\n",
       "<table border=\"1\" class=\"dataframe\">\n",
       "  <thead>\n",
       "    <tr style=\"text-align: right;\">\n",
       "      <th></th>\n",
       "      <th>id</th>\n",
       "      <th>anchor</th>\n",
       "      <th>target</th>\n",
       "      <th>context</th>\n",
       "      <th>score</th>\n",
       "    </tr>\n",
       "  </thead>\n",
       "  <tbody>\n",
       "    <tr>\n",
       "      <th>0</th>\n",
       "      <td>37d61fd2272659b1</td>\n",
       "      <td>abatement</td>\n",
       "      <td>abatement of pollution</td>\n",
       "      <td>A47</td>\n",
       "      <td>0.50</td>\n",
       "    </tr>\n",
       "    <tr>\n",
       "      <th>1</th>\n",
       "      <td>7b9652b17b68b7a4</td>\n",
       "      <td>abatement</td>\n",
       "      <td>act of abating</td>\n",
       "      <td>A47</td>\n",
       "      <td>0.75</td>\n",
       "    </tr>\n",
       "    <tr>\n",
       "      <th>2</th>\n",
       "      <td>36d72442aefd8232</td>\n",
       "      <td>abatement</td>\n",
       "      <td>active catalyst</td>\n",
       "      <td>A47</td>\n",
       "      <td>0.25</td>\n",
       "    </tr>\n",
       "    <tr>\n",
       "      <th>3</th>\n",
       "      <td>5296b0c19e1ce60e</td>\n",
       "      <td>abatement</td>\n",
       "      <td>eliminating process</td>\n",
       "      <td>A47</td>\n",
       "      <td>0.50</td>\n",
       "    </tr>\n",
       "    <tr>\n",
       "      <th>4</th>\n",
       "      <td>54c1e3b9184cb5b6</td>\n",
       "      <td>abatement</td>\n",
       "      <td>forest region</td>\n",
       "      <td>A47</td>\n",
       "      <td>0.00</td>\n",
       "    </tr>\n",
       "  </tbody>\n",
       "</table>\n",
       "</div>"
      ],
      "text/plain": [
       "                 id     anchor                  target context  score\n",
       "0  37d61fd2272659b1  abatement  abatement of pollution     A47   0.50\n",
       "1  7b9652b17b68b7a4  abatement          act of abating     A47   0.75\n",
       "2  36d72442aefd8232  abatement         active catalyst     A47   0.25\n",
       "3  5296b0c19e1ce60e  abatement     eliminating process     A47   0.50\n",
       "4  54c1e3b9184cb5b6  abatement           forest region     A47   0.00"
      ]
     },
     "metadata": {},
     "output_type": "display_data"
    }
   ],
   "source": [
    "train = pd.read_csv(INPUT_DIR + 'train.csv')\n",
    "test = pd.read_csv(INPUT_DIR + 'test.csv')\n",
    "print(f\"train.shape: {train.shape}\")\n",
    "display(train.head())"
   ]
  },
  {
   "cell_type": "markdown",
   "metadata": {},
   "source": [
    "### CPC Data"
   ]
  },
  {
   "cell_type": "code",
   "execution_count": 5,
   "metadata": {},
   "outputs": [
    {
     "data": {
      "text/html": [
       "<div>\n",
       "<style scoped>\n",
       "    .dataframe tbody tr th:only-of-type {\n",
       "        vertical-align: middle;\n",
       "    }\n",
       "\n",
       "    .dataframe tbody tr th {\n",
       "        vertical-align: top;\n",
       "    }\n",
       "\n",
       "    .dataframe thead th {\n",
       "        text-align: right;\n",
       "    }\n",
       "</style>\n",
       "<table border=\"1\" class=\"dataframe\">\n",
       "  <thead>\n",
       "    <tr style=\"text-align: right;\">\n",
       "      <th></th>\n",
       "      <th>id</th>\n",
       "      <th>anchor</th>\n",
       "      <th>target</th>\n",
       "      <th>context</th>\n",
       "      <th>score</th>\n",
       "      <th>context_text</th>\n",
       "    </tr>\n",
       "  </thead>\n",
       "  <tbody>\n",
       "    <tr>\n",
       "      <th>0</th>\n",
       "      <td>37d61fd2272659b1</td>\n",
       "      <td>abatement</td>\n",
       "      <td>abatement of pollution</td>\n",
       "      <td>A47</td>\n",
       "      <td>0.50</td>\n",
       "      <td>human necessities. furniture; domestic article...</td>\n",
       "    </tr>\n",
       "    <tr>\n",
       "      <th>1</th>\n",
       "      <td>7b9652b17b68b7a4</td>\n",
       "      <td>abatement</td>\n",
       "      <td>act of abating</td>\n",
       "      <td>A47</td>\n",
       "      <td>0.75</td>\n",
       "      <td>human necessities. furniture; domestic article...</td>\n",
       "    </tr>\n",
       "    <tr>\n",
       "      <th>2</th>\n",
       "      <td>36d72442aefd8232</td>\n",
       "      <td>abatement</td>\n",
       "      <td>active catalyst</td>\n",
       "      <td>A47</td>\n",
       "      <td>0.25</td>\n",
       "      <td>human necessities. furniture; domestic article...</td>\n",
       "    </tr>\n",
       "    <tr>\n",
       "      <th>3</th>\n",
       "      <td>5296b0c19e1ce60e</td>\n",
       "      <td>abatement</td>\n",
       "      <td>eliminating process</td>\n",
       "      <td>A47</td>\n",
       "      <td>0.50</td>\n",
       "      <td>human necessities. furniture; domestic article...</td>\n",
       "    </tr>\n",
       "    <tr>\n",
       "      <th>4</th>\n",
       "      <td>54c1e3b9184cb5b6</td>\n",
       "      <td>abatement</td>\n",
       "      <td>forest region</td>\n",
       "      <td>A47</td>\n",
       "      <td>0.00</td>\n",
       "      <td>human necessities. furniture; domestic article...</td>\n",
       "    </tr>\n",
       "  </tbody>\n",
       "</table>\n",
       "</div>"
      ],
      "text/plain": [
       "                 id     anchor                  target context  score                                       context_text\n",
       "0  37d61fd2272659b1  abatement  abatement of pollution     A47   0.50  human necessities. furniture; domestic article...\n",
       "1  7b9652b17b68b7a4  abatement          act of abating     A47   0.75  human necessities. furniture; domestic article...\n",
       "2  36d72442aefd8232  abatement         active catalyst     A47   0.25  human necessities. furniture; domestic article...\n",
       "3  5296b0c19e1ce60e  abatement     eliminating process     A47   0.50  human necessities. furniture; domestic article...\n",
       "4  54c1e3b9184cb5b6  abatement           forest region     A47   0.00  human necessities. furniture; domestic article..."
      ]
     },
     "metadata": {},
     "output_type": "display_data"
    }
   ],
   "source": [
    "# ====================================================\n",
    "# CPC (Cooperative Patent Classification) Data\n",
    "# ====================================================\n",
    "cpc_date = '202105'\n",
    "def get_cpc_texts(file_path = None, write = False):\n",
    "    if file_path and write == False :\n",
    "        return pd.read_csv(file_path, header = None, index_col = 0, squeeze = True).to_dict()\n",
    "\n",
    "    else : \n",
    "        contexts = []\n",
    "        pattern = '[A-Z]\\d+'\n",
    "        for file_name in os.listdir(f'{CPC_DIR}CPCSchemeXML{cpc_date}'):\n",
    "            result = re.findall(pattern, file_name)\n",
    "            if result:\n",
    "                contexts.append(result)\n",
    "        contexts = sorted(set(sum(contexts, [])))\n",
    "        results = {}\n",
    "        for cpc in ['A', 'B', 'C', 'D', 'E', 'F', 'G', 'H', 'Y']:\n",
    "            with open(f'{CPC_DIR}/CPCTitleList202202/cpc-section-{cpc}_20220201.txt') as f:\n",
    "                s = f.read()\n",
    "            pattern = f'{cpc}\\t\\t.+'\n",
    "            result = re.findall(pattern, s)\n",
    "            cpc_result = result[0].lstrip(pattern)\n",
    "            for context in [c for c in contexts if c[0] == cpc]:\n",
    "                pattern = f'{context}\\t\\t.+'\n",
    "                result = re.findall(pattern, s)\n",
    "                results[context] = cpc_result + \". \" + result[0].lstrip(pattern)\n",
    "\n",
    "        if write :\n",
    "            temp = pd.DataFrame.from_dict(cpc_texts, orient='index')\n",
    "            temp.to_csv(file_path, index = True, header = False)\n",
    "\n",
    "        return results\n",
    "\n",
    "cpc_texts = get_cpc_texts()\n",
    "\n",
    "train['context_text'] = train['context'].map(cpc_texts).apply(lambda x: x.lower())\n",
    "test['context_text'] = test['context'].map(cpc_texts).apply(lambda x: x.lower())\n",
    "display(train.head())"
   ]
  },
  {
   "cell_type": "markdown",
   "metadata": {},
   "source": [
    "# Additional Features"
   ]
  },
  {
   "cell_type": "code",
   "execution_count": 6,
   "metadata": {},
   "outputs": [],
   "source": [
    "features = []"
   ]
  },
  {
   "cell_type": "markdown",
   "metadata": {},
   "source": [
    "## score_map"
   ]
  },
  {
   "cell_type": "code",
   "execution_count": 7,
   "metadata": {},
   "outputs": [],
   "source": [
    "train['score_map'] = train['score'].map({0.00: 0, 0.25: 1, 0.50: 2, 0.75: 3, 1.00: 4})"
   ]
  },
  {
   "cell_type": "markdown",
   "metadata": {},
   "source": [
    "## anchor_target_CPCdescription"
   ]
  },
  {
   "cell_type": "code",
   "execution_count": 8,
   "metadata": {},
   "outputs": [
    {
     "data": {
      "text/plain": [
       "'human necessities. furniture; domestic articles or appliances; coffee mills; spice mills; suction cleaners in general'"
      ]
     },
     "execution_count": 8,
     "metadata": {},
     "output_type": "execute_result"
    }
   ],
   "source": [
    "features.append('anchor_target_CPCdescription')\n",
    "train['anchor_target_CPCdescription'] = train['context_text'] # Anchor and Target will be added before exporting the dataset\n",
    "test['anchor_target_CPCdescription'] = test['context_text'] # Anchor and Target will be added before exporting the dataset\n",
    "train['anchor_target_CPCdescription'].head()[0]"
   ]
  },
  {
   "cell_type": "markdown",
   "metadata": {},
   "source": [
    "## same_anchor_similar_targets"
   ]
  },
  {
   "cell_type": "code",
   "execution_count": 9,
   "metadata": {},
   "outputs": [
    {
     "data": {
      "text/plain": [
       "'act of abating, abating'"
      ]
     },
     "execution_count": 9,
     "metadata": {},
     "output_type": "execute_result"
    }
   ],
   "source": [
    "features.append('same_anchor_similar_targets') # List of unique targets for same anchor\n",
    "extra = train[train.score>=0.75].groupby('anchor').target.agg(list).rename('same_anchor_similar_targets') \n",
    "\n",
    "def add_feature(df):\n",
    "    df = df.join(extra, on='anchor').fillna(\"\")\n",
    "    df['same_anchor_similar_targets'] = df.apply(lambda x:[i for i in x['same_anchor_similar_targets'] if i != x['target']], axis=1) \n",
    "    df['same_anchor_similar_targets'] = df['same_anchor_similar_targets'].apply(lambda x:', '.join(sorted(list(set(x)), key=x.index))) \n",
    "    return df\n",
    "\n",
    "train = add_feature(train)\n",
    "test = add_feature(test)\n",
    "\n",
    "train['same_anchor_similar_targets'].head()[0]"
   ]
  },
  {
   "cell_type": "code",
   "execution_count": 10,
   "metadata": {},
   "outputs": [
    {
     "data": {
      "text/plain": [
       "'act of abating, active catalyst, eliminating process, forest region, greenhouse gases, increased rate, measurement level, minimising sounds, mixing core materials, multi pollution abatement device, noise reduction, pollution abatement, pollution abatement incinerator, pollution certificate, rent abatement, sorbent material, source items pollution abatement technology, stone abutments, tax abatement, water bodies, emission abatement, prevention, prophylaxis, abatement apparatus, treatment, abating, central hub, control panel, deficiency, diminished chord, diminished image, diminishing, eliminating, eliminating emissions, eliminating pollutants, increasing, increasing order, mitigation, pollution control, processing unit, removing air pollutants, subsiding, treating emissions, noise abatement'"
      ]
     },
     "execution_count": 10,
     "metadata": {},
     "output_type": "execute_result"
    }
   ],
   "source": [
    "features.append('same_anchor_targets') # List of unique targets for same anchor\n",
    "extra = train.groupby('anchor').target.agg(list).rename('same_anchor_targets') \n",
    "\n",
    "def add_feature(df):\n",
    "    df = df.join(extra, on='anchor').fillna(\"\")\n",
    "    df['same_anchor_targets'] = df.apply(lambda x:[i for i in x['same_anchor_targets'] if i != x['target']], axis=1) \n",
    "    df['same_anchor_targets'] = df['same_anchor_targets'].apply(lambda x:', '.join(sorted(list(set(x)), key=x.index))) \n",
    "    return df\n",
    "\n",
    "train = add_feature(train)\n",
    "test = add_feature(test)\n",
    "\n",
    "train['same_anchor_targets'].head()[0]"
   ]
  },
  {
   "cell_type": "code",
   "execution_count": 11,
   "metadata": {},
   "outputs": [
    {
     "data": {
      "text/plain": [
       "'abatement[SEP]abatement of pollution[SEP]act of abating, active catalyst, eliminating process, forest region, greenhouse gases, increased rate, measurement level, minimising sounds, mixing core materials, multi pollution abatement device, noise reduction, pollution abatement, pollution abatement incinerator, pollution certificate, rent abatement, sorbent material, source items pollution abatement technology, stone abutments, tax abatement, water bodies, emission abatement, prevention, prophylaxis, abatement apparatus, treatment, abating, central hub, control panel, deficiency, diminished chord, diminished image, diminishing, eliminating, eliminating emissions, eliminating pollutants, increasing, increasing order, mitigation, pollution control, processing unit, removing air pollutants, subsiding, treating emissions, noise abatement'"
      ]
     },
     "execution_count": 11,
     "metadata": {},
     "output_type": "execute_result"
    }
   ],
   "source": [
    "features.append('pet_text')\n",
    "\n",
    "def add_feature(df):\n",
    "    df['pet_text'] = df['anchor'] + '[SEP]' + df['target'] + '[SEP]' + df['same_anchor_targets']\n",
    "    return df\n",
    "\n",
    "train = add_feature(train)\n",
    "test = add_feature(test)\n",
    "\n",
    "train['pet_text'].head()[0]"
   ]
  },
  {
   "cell_type": "markdown",
   "metadata": {},
   "source": [
    "## same_anchor_context_targets"
   ]
  },
  {
   "cell_type": "code",
   "execution_count": 12,
   "metadata": {},
   "outputs": [
    {
     "data": {
      "text/plain": [
       "'act of abating, active catalyst, eliminating process, forest region, greenhouse gases, increased rate, measurement level, minimising sounds, mixing core materials, multi pollution abatement device, noise reduction, pollution abatement, pollution abatement incinerator, pollution certificate, rent abatement, sorbent material, source items pollution abatement technology, stone abutments, tax abatement, water bodies'"
      ]
     },
     "execution_count": 12,
     "metadata": {},
     "output_type": "execute_result"
    }
   ],
   "source": [
    "features.append('same_anchor_context_targets') # List of targets for the same anchor and context\n",
    "extra = train.groupby(['anchor', 'context']).target.agg(list).rename('same_anchor_context_targets')\n",
    "\n",
    "def add_feature(df):\n",
    "    df = df.join(extra, on=['anchor', 'context']).fillna(\"\")\n",
    "    df['same_anchor_context_targets'] = df.apply(lambda x: ', '.join([i for i in x['same_anchor_context_targets'] if i != x['target']]), axis=1)\n",
    "    return df\n",
    "\n",
    "train = add_feature(train)\n",
    "test = add_feature(test)\n",
    "\n",
    "train['same_anchor_context_targets'].head()[0]"
   ]
  },
  {
   "cell_type": "markdown",
   "metadata": {},
   "source": [
    "## same_anchor_context_similar_targets"
   ]
  },
  {
   "cell_type": "code",
   "execution_count": 13,
   "metadata": {},
   "outputs": [
    {
     "data": {
      "text/plain": [
       "'act of abating'"
      ]
     },
     "execution_count": 13,
     "metadata": {},
     "output_type": "execute_result"
    }
   ],
   "source": [
    "features.append('same_anchor_context_similar_targets') # List of similar targets for the same anchor and context\n",
    "extra = train[train.score>=0.75].groupby(['anchor', 'context']).target.agg(list).rename('same_anchor_context_similar_targets')\n",
    "\n",
    "def add_feature(df):\n",
    "    df = df.join(extra, on=['anchor', 'context']).fillna(\"\")\n",
    "    df['same_anchor_context_similar_targets'] = df.apply(lambda x: ', '.join([i for i in x['same_anchor_context_similar_targets'] if i != x['target']]), axis=1)\n",
    "    return df\n",
    "\n",
    "train = add_feature(train)\n",
    "test = add_feature(test)\n",
    "train['same_anchor_context_similar_targets'].head()[0]"
   ]
  },
  {
   "cell_type": "markdown",
   "metadata": {},
   "source": [
    "## CPCdescription_same_anchor_context_similar_targets"
   ]
  },
  {
   "cell_type": "code",
   "execution_count": 14,
   "metadata": {},
   "outputs": [
    {
     "data": {
      "text/plain": [
       "'human necessities. furniture; domestic articles or appliances; coffee mills; spice mills; suction cleaners in general, act of abating'"
      ]
     },
     "execution_count": 14,
     "metadata": {},
     "output_type": "execute_result"
    }
   ],
   "source": [
    "features.append('CPCdescription_same_anchor_context_similar_targets')\n",
    "def add_feature(df):\n",
    "    df['CPCdescription_same_anchor_context_similar_targets'] = df['anchor_target_CPCdescription'] +', '+ df['same_anchor_context_similar_targets']\n",
    "    return df\n",
    "\n",
    "train = add_feature(train)\n",
    "test = add_feature(test)\n",
    "\n",
    "train['CPCdescription_same_anchor_context_similar_targets'].head()[0]"
   ]
  },
  {
   "cell_type": "markdown",
   "metadata": {},
   "source": [
    "## Add anchor and target to all features"
   ]
  },
  {
   "cell_type": "code",
   "execution_count": 15,
   "metadata": {},
   "outputs": [],
   "source": [
    "def add_anchor_target(df):\n",
    "    for f in features:\n",
    "        df[f] = df['anchor'] + '[SEP]' + df['target'] + '[SEP]' + df[f]\n",
    "    return df\n",
    "\n",
    "train = add_anchor_target(train)\n",
    "test = add_anchor_target(test)"
   ]
  },
  {
   "cell_type": "markdown",
   "metadata": {},
   "source": [
    "## Stratification Feature: CPC-initial + Score_Map"
   ]
  },
  {
   "cell_type": "code",
   "execution_count": 16,
   "metadata": {},
   "outputs": [
    {
     "data": {
      "text/plain": [
       "0    A2\n",
       "1    A3\n",
       "2    A1\n",
       "3    A2\n",
       "4    A0\n",
       "Name: stratification_index, dtype: object"
      ]
     },
     "execution_count": 16,
     "metadata": {},
     "output_type": "execute_result"
    }
   ],
   "source": [
    "train[\"stratification_index\"] = train.context.str[:1] + train.score_map.astype(str)\n",
    "train[\"stratification_index\"].head()"
   ]
  },
  {
   "cell_type": "code",
   "execution_count": 17,
   "metadata": {},
   "outputs": [
    {
     "data": {
      "text/plain": [
       "2    12300\n",
       "1    11519\n",
       "0     7471\n",
       "3     4029\n",
       "4     1154\n",
       "Name: score_map, dtype: int64"
      ]
     },
     "execution_count": 17,
     "metadata": {},
     "output_type": "execute_result"
    }
   ],
   "source": [
    "train['score_map'].value_counts()"
   ]
  },
  {
   "cell_type": "code",
   "execution_count": 18,
   "metadata": {},
   "outputs": [
    {
     "data": {
      "text/plain": [
       "<AxesSubplot:>"
      ]
     },
     "execution_count": 18,
     "metadata": {},
     "output_type": "execute_result"
    },
    {
     "data": {
      "image/png": "[encoded data removed]",
      "text/plain": [
       "<Figure size 576x432 with 1 Axes>"
      ]
     },
     "metadata": {
      "needs_background": "light"
     },
     "output_type": "display_data"
    }
   ],
   "source": [
    "from matplotlib import pyplot as plt\n",
    "plt.figure(figsize=(8,6))\n",
    "plt.xticks(rotation=90)\n",
    "train[\"stratification_index\"].hist()"
   ]
  },
  {
   "cell_type": "markdown",
   "metadata": {},
   "source": [
    "## Dataframe Export"
   ]
  },
  {
   "cell_type": "code",
   "execution_count": 19,
   "metadata": {},
   "outputs": [],
   "source": [
    "train.to_csv(\"train_dataframe_with_features.csv\", index=False)\n",
    "test.to_csv(\"test_dataframe_with_features.csv\", index=False)"
   ]
  },
  {
   "cell_type": "markdown",
   "metadata": {},
   "source": [
    "# Check length of each feature"
   ]
  },
  {
   "cell_type": "code",
   "execution_count": 20,
   "metadata": {},
   "outputs": [],
   "source": [
    "def concatenate_features(row):\n",
    "    try:\n",
    "        s = \"\"\n",
    "        for f in row.values:\n",
    "            if f not in s:\n",
    "                s +=f\"{f}, \"\n",
    "            \n",
    "        return s\n",
    "    except:\n",
    "        pass"
   ]
  },
  {
   "cell_type": "code",
   "execution_count": 21,
   "metadata": {},
   "outputs": [
    {
     "name": "stdout",
     "output_type": "stream",
     "text": [
      "anchor_target_CPCdescription 50\n",
      "same_anchor_similar_targets 94\n",
      "same_anchor_targets 358\n",
      "pet_text 364\n",
      "same_anchor_context_targets 298\n",
      "same_anchor_context_similar_targets 82\n",
      "CPCdescription_same_anchor_context_similar_targets 88\n"
     ]
    }
   ],
   "source": [
    "for feature in features:\n",
    "    print(feature, str(train[feature].apply(lambda x: x.count(\" \")).max()))"
   ]
  },
  {
   "cell_type": "code",
   "execution_count": null,
   "metadata": {},
   "outputs": [],
   "source": []
  }
 ],
 "metadata": {
  "kernelspec": {
   "display_name": "Python 3",
   "language": "python",
   "name": "python3"
  },
  "language_info": {
   "codemirror_mode": {
    "name": "ipython",
    "version": 3
   },
   "file_extension": ".py",
   "mimetype": "text/x-python",
   "name": "python",
   "nbconvert_exporter": "python",
   "pygments_lexer": "ipython3",
   "version": "3.8.10"
  },
  "vscode": {
   "interpreter": {
    "hash": "767d51c1340bd893661ea55ea3124f6de3c7a262a8b4abca0554b478b1e2ff90"
   }
  }
 },
 "nbformat": 4,
 "nbformat_minor": 4
}
